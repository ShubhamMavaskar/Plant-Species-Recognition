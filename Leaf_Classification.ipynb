{
 "cells": [
  {
   "cell_type": "code",
   "execution_count": 1,
   "id": "022cf95e",
   "metadata": {},
   "outputs": [],
   "source": [
    "import numpy as np\n",
    "import pandas as pd\n",
    "import os\n",
    "import matplotlib.pyplot as plt\n",
    "import string\n",
    "import seaborn as sn"
   ]
  },
  {
   "cell_type": "code",
   "execution_count": 2,
   "id": "628fe001",
   "metadata": {},
   "outputs": [],
   "source": [
    "dataset = pd.read_csv(\"Flavia_features.csv\")"
   ]
  },
  {
   "cell_type": "code",
   "execution_count": 3,
   "id": "fb3328a6",
   "metadata": {},
   "outputs": [
    {
     "data": {
      "text/html": [
       "<div>\n",
       "<style scoped>\n",
       "    .dataframe tbody tr th:only-of-type {\n",
       "        vertical-align: middle;\n",
       "    }\n",
       "\n",
       "    .dataframe tbody tr th {\n",
       "        vertical-align: top;\n",
       "    }\n",
       "\n",
       "    .dataframe thead th {\n",
       "        text-align: right;\n",
       "    }\n",
       "</style>\n",
       "<table border=\"1\" class=\"dataframe\">\n",
       "  <thead>\n",
       "    <tr style=\"text-align: right;\">\n",
       "      <th></th>\n",
       "      <th>Unnamed: 0</th>\n",
       "      <th>area</th>\n",
       "      <th>perimeter</th>\n",
       "      <th>physiological_length</th>\n",
       "      <th>physiological_width</th>\n",
       "      <th>aspect_ratio</th>\n",
       "      <th>rectangularity</th>\n",
       "      <th>circularity</th>\n",
       "      <th>mean_r</th>\n",
       "      <th>mean_g</th>\n",
       "      <th>mean_b</th>\n",
       "      <th>stddev_r</th>\n",
       "      <th>stddev_g</th>\n",
       "      <th>stddev_b</th>\n",
       "      <th>contrast</th>\n",
       "      <th>correlation</th>\n",
       "      <th>inverse_difference_moments</th>\n",
       "      <th>entropy</th>\n",
       "    </tr>\n",
       "  </thead>\n",
       "  <tbody>\n",
       "    <tr>\n",
       "      <th>0</th>\n",
       "      <td>0</td>\n",
       "      <td>197787.0</td>\n",
       "      <td>3479.036035</td>\n",
       "      <td>1416</td>\n",
       "      <td>759</td>\n",
       "      <td>1.865613</td>\n",
       "      <td>5.433846</td>\n",
       "      <td>61.195588</td>\n",
       "      <td>6.395667</td>\n",
       "      <td>13.643413</td>\n",
       "      <td>4.388007</td>\n",
       "      <td>24.025329</td>\n",
       "      <td>40.200931</td>\n",
       "      <td>21.448412</td>\n",
       "      <td>12.639688</td>\n",
       "      <td>0.997666</td>\n",
       "      <td>0.911738</td>\n",
       "      <td>1.688689</td>\n",
       "    </tr>\n",
       "    <tr>\n",
       "      <th>1</th>\n",
       "      <td>0</td>\n",
       "      <td>101297.0</td>\n",
       "      <td>2491.210239</td>\n",
       "      <td>1191</td>\n",
       "      <td>130</td>\n",
       "      <td>9.161538</td>\n",
       "      <td>1.528476</td>\n",
       "      <td>61.266656</td>\n",
       "      <td>7.049316</td>\n",
       "      <td>9.232018</td>\n",
       "      <td>10.876066</td>\n",
       "      <td>33.816205</td>\n",
       "      <td>37.382221</td>\n",
       "      <td>46.479230</td>\n",
       "      <td>8.137424</td>\n",
       "      <td>0.997191</td>\n",
       "      <td>0.944818</td>\n",
       "      <td>1.193795</td>\n",
       "    </tr>\n",
       "    <tr>\n",
       "      <th>2</th>\n",
       "      <td>0</td>\n",
       "      <td>86626.5</td>\n",
       "      <td>2291.511754</td>\n",
       "      <td>1096</td>\n",
       "      <td>119</td>\n",
       "      <td>9.210084</td>\n",
       "      <td>1.505590</td>\n",
       "      <td>60.616856</td>\n",
       "      <td>3.434303</td>\n",
       "      <td>6.371511</td>\n",
       "      <td>2.644757</td>\n",
       "      <td>19.975699</td>\n",
       "      <td>29.057374</td>\n",
       "      <td>19.275050</td>\n",
       "      <td>8.553729</td>\n",
       "      <td>0.996610</td>\n",
       "      <td>0.959023</td>\n",
       "      <td>0.848758</td>\n",
       "    </tr>\n",
       "    <tr>\n",
       "      <th>3</th>\n",
       "      <td>0</td>\n",
       "      <td>190481.0</td>\n",
       "      <td>2858.479352</td>\n",
       "      <td>1319</td>\n",
       "      <td>254</td>\n",
       "      <td>5.192913</td>\n",
       "      <td>1.758842</td>\n",
       "      <td>42.896164</td>\n",
       "      <td>7.670415</td>\n",
       "      <td>13.303599</td>\n",
       "      <td>6.049157</td>\n",
       "      <td>28.822885</td>\n",
       "      <td>40.221845</td>\n",
       "      <td>26.948604</td>\n",
       "      <td>8.440064</td>\n",
       "      <td>0.998419</td>\n",
       "      <td>0.914331</td>\n",
       "      <td>1.673914</td>\n",
       "    </tr>\n",
       "    <tr>\n",
       "      <th>4</th>\n",
       "      <td>0</td>\n",
       "      <td>228035.0</td>\n",
       "      <td>2920.420478</td>\n",
       "      <td>1325</td>\n",
       "      <td>286</td>\n",
       "      <td>4.632867</td>\n",
       "      <td>1.661806</td>\n",
       "      <td>37.401521</td>\n",
       "      <td>8.992028</td>\n",
       "      <td>16.671173</td>\n",
       "      <td>6.294281</td>\n",
       "      <td>30.967158</td>\n",
       "      <td>45.040198</td>\n",
       "      <td>28.595326</td>\n",
       "      <td>8.641447</td>\n",
       "      <td>0.998568</td>\n",
       "      <td>0.898644</td>\n",
       "      <td>1.968081</td>\n",
       "    </tr>\n",
       "  </tbody>\n",
       "</table>\n",
       "</div>"
      ],
      "text/plain": [
       "   Unnamed: 0      area    perimeter  physiological_length  \\\n",
       "0           0  197787.0  3479.036035                  1416   \n",
       "1           0  101297.0  2491.210239                  1191   \n",
       "2           0   86626.5  2291.511754                  1096   \n",
       "3           0  190481.0  2858.479352                  1319   \n",
       "4           0  228035.0  2920.420478                  1325   \n",
       "\n",
       "   physiological_width  aspect_ratio  rectangularity  circularity    mean_r  \\\n",
       "0                  759      1.865613        5.433846    61.195588  6.395667   \n",
       "1                  130      9.161538        1.528476    61.266656  7.049316   \n",
       "2                  119      9.210084        1.505590    60.616856  3.434303   \n",
       "3                  254      5.192913        1.758842    42.896164  7.670415   \n",
       "4                  286      4.632867        1.661806    37.401521  8.992028   \n",
       "\n",
       "      mean_g     mean_b   stddev_r   stddev_g   stddev_b   contrast  \\\n",
       "0  13.643413   4.388007  24.025329  40.200931  21.448412  12.639688   \n",
       "1   9.232018  10.876066  33.816205  37.382221  46.479230   8.137424   \n",
       "2   6.371511   2.644757  19.975699  29.057374  19.275050   8.553729   \n",
       "3  13.303599   6.049157  28.822885  40.221845  26.948604   8.440064   \n",
       "4  16.671173   6.294281  30.967158  45.040198  28.595326   8.641447   \n",
       "\n",
       "   correlation  inverse_difference_moments   entropy  \n",
       "0     0.997666                    0.911738  1.688689  \n",
       "1     0.997191                    0.944818  1.193795  \n",
       "2     0.996610                    0.959023  0.848758  \n",
       "3     0.998419                    0.914331  1.673914  \n",
       "4     0.998568                    0.898644  1.968081  "
      ]
     },
     "execution_count": 3,
     "metadata": {},
     "output_type": "execute_result"
    }
   ],
   "source": [
    "dataset.head(5)"
   ]
  },
  {
   "cell_type": "code",
   "execution_count": 4,
   "id": "06f4e336",
   "metadata": {},
   "outputs": [
    {
     "data": {
      "text/plain": [
       "pandas.core.frame.DataFrame"
      ]
     },
     "execution_count": 4,
     "metadata": {},
     "output_type": "execute_result"
    }
   ],
   "source": [
    "type(dataset)"
   ]
  },
  {
   "cell_type": "code",
   "execution_count": 5,
   "id": "2bb6a141",
   "metadata": {},
   "outputs": [],
   "source": [
    "maindir = r'C:\\Users\\Shubham Mavaskar\\Desktop\\My Project'\n",
    "ds_path = \"Leaves\"\n",
    "img_files = os.listdir(ds_path)"
   ]
  },
  {
   "cell_type": "code",
   "execution_count": 6,
   "id": "76d2d03e",
   "metadata": {},
   "outputs": [],
   "source": [
    "breakpoints = [1001,1059,1060,1122,1552,1616,1123,1194,1195,1267,1268,1323,1324,1385,1386,1437,1497,1551,1438,1496,2001,2050,2051,2113,2114,2165,2166,2230,2231,2290,2291,2346,2347,2423,2424,2485,2486,2546,2547,2612,2616,2675,3001,3055,3056,3110,3111,3175,3176,3229,3230,3281,3282,3334,3335,3389,3390,3446,3447,3510,3511,3563,3566,3621]"
   ]
  },
  {
   "cell_type": "code",
   "execution_count": 7,
   "id": "086890db",
   "metadata": {},
   "outputs": [],
   "source": [
    "target_list = []\n",
    "for file in img_files:\n",
    "    target_num = int(file.split(\".\")[0])\n",
    "    flag = 0\n",
    "    i = 0 \n",
    "    for i in range(0,len(breakpoints),2):\n",
    "        if((target_num >= breakpoints[i]) and (target_num <= breakpoints[i+1])):\n",
    "            flag = 1\n",
    "            break\n",
    "    if(flag==1):\n",
    "        target = int((i/2))\n",
    "        target_list.append(target)"
   ]
  },
  {
   "cell_type": "code",
   "execution_count": 8,
   "id": "7371f4cc",
   "metadata": {},
   "outputs": [
    {
     "data": {
      "text/plain": [
       "array([ 0,  0,  0, ..., 31, 31, 31])"
      ]
     },
     "execution_count": 8,
     "metadata": {},
     "output_type": "execute_result"
    }
   ],
   "source": [
    "y = np.array(target_list)\n",
    "y"
   ]
  },
  {
   "cell_type": "code",
   "execution_count": 9,
   "id": "dde6667c",
   "metadata": {},
   "outputs": [],
   "source": [
    "X = dataset.iloc[:,1:]"
   ]
  },
  {
   "cell_type": "code",
   "execution_count": 10,
   "id": "0d1c5ee8",
   "metadata": {},
   "outputs": [
    {
     "data": {
      "text/html": [
       "<div>\n",
       "<style scoped>\n",
       "    .dataframe tbody tr th:only-of-type {\n",
       "        vertical-align: middle;\n",
       "    }\n",
       "\n",
       "    .dataframe tbody tr th {\n",
       "        vertical-align: top;\n",
       "    }\n",
       "\n",
       "    .dataframe thead th {\n",
       "        text-align: right;\n",
       "    }\n",
       "</style>\n",
       "<table border=\"1\" class=\"dataframe\">\n",
       "  <thead>\n",
       "    <tr style=\"text-align: right;\">\n",
       "      <th></th>\n",
       "      <th>area</th>\n",
       "      <th>perimeter</th>\n",
       "      <th>physiological_length</th>\n",
       "      <th>physiological_width</th>\n",
       "      <th>aspect_ratio</th>\n",
       "      <th>rectangularity</th>\n",
       "      <th>circularity</th>\n",
       "      <th>mean_r</th>\n",
       "      <th>mean_g</th>\n",
       "      <th>mean_b</th>\n",
       "      <th>stddev_r</th>\n",
       "      <th>stddev_g</th>\n",
       "      <th>stddev_b</th>\n",
       "      <th>contrast</th>\n",
       "      <th>correlation</th>\n",
       "      <th>inverse_difference_moments</th>\n",
       "      <th>entropy</th>\n",
       "    </tr>\n",
       "  </thead>\n",
       "  <tbody>\n",
       "    <tr>\n",
       "      <th>0</th>\n",
       "      <td>197787.0</td>\n",
       "      <td>3479.036035</td>\n",
       "      <td>1416</td>\n",
       "      <td>759</td>\n",
       "      <td>1.865613</td>\n",
       "      <td>5.433846</td>\n",
       "      <td>61.195588</td>\n",
       "      <td>6.395667</td>\n",
       "      <td>13.643413</td>\n",
       "      <td>4.388007</td>\n",
       "      <td>24.025329</td>\n",
       "      <td>40.200931</td>\n",
       "      <td>21.448412</td>\n",
       "      <td>12.639688</td>\n",
       "      <td>0.997666</td>\n",
       "      <td>0.911738</td>\n",
       "      <td>1.688689</td>\n",
       "    </tr>\n",
       "    <tr>\n",
       "      <th>1</th>\n",
       "      <td>101297.0</td>\n",
       "      <td>2491.210239</td>\n",
       "      <td>1191</td>\n",
       "      <td>130</td>\n",
       "      <td>9.161538</td>\n",
       "      <td>1.528476</td>\n",
       "      <td>61.266656</td>\n",
       "      <td>7.049316</td>\n",
       "      <td>9.232018</td>\n",
       "      <td>10.876066</td>\n",
       "      <td>33.816205</td>\n",
       "      <td>37.382221</td>\n",
       "      <td>46.479230</td>\n",
       "      <td>8.137424</td>\n",
       "      <td>0.997191</td>\n",
       "      <td>0.944818</td>\n",
       "      <td>1.193795</td>\n",
       "    </tr>\n",
       "    <tr>\n",
       "      <th>2</th>\n",
       "      <td>86626.5</td>\n",
       "      <td>2291.511754</td>\n",
       "      <td>1096</td>\n",
       "      <td>119</td>\n",
       "      <td>9.210084</td>\n",
       "      <td>1.505590</td>\n",
       "      <td>60.616856</td>\n",
       "      <td>3.434303</td>\n",
       "      <td>6.371511</td>\n",
       "      <td>2.644757</td>\n",
       "      <td>19.975699</td>\n",
       "      <td>29.057374</td>\n",
       "      <td>19.275050</td>\n",
       "      <td>8.553729</td>\n",
       "      <td>0.996610</td>\n",
       "      <td>0.959023</td>\n",
       "      <td>0.848758</td>\n",
       "    </tr>\n",
       "    <tr>\n",
       "      <th>3</th>\n",
       "      <td>190481.0</td>\n",
       "      <td>2858.479352</td>\n",
       "      <td>1319</td>\n",
       "      <td>254</td>\n",
       "      <td>5.192913</td>\n",
       "      <td>1.758842</td>\n",
       "      <td>42.896164</td>\n",
       "      <td>7.670415</td>\n",
       "      <td>13.303599</td>\n",
       "      <td>6.049157</td>\n",
       "      <td>28.822885</td>\n",
       "      <td>40.221845</td>\n",
       "      <td>26.948604</td>\n",
       "      <td>8.440064</td>\n",
       "      <td>0.998419</td>\n",
       "      <td>0.914331</td>\n",
       "      <td>1.673914</td>\n",
       "    </tr>\n",
       "    <tr>\n",
       "      <th>4</th>\n",
       "      <td>228035.0</td>\n",
       "      <td>2920.420478</td>\n",
       "      <td>1325</td>\n",
       "      <td>286</td>\n",
       "      <td>4.632867</td>\n",
       "      <td>1.661806</td>\n",
       "      <td>37.401521</td>\n",
       "      <td>8.992028</td>\n",
       "      <td>16.671173</td>\n",
       "      <td>6.294281</td>\n",
       "      <td>30.967158</td>\n",
       "      <td>45.040198</td>\n",
       "      <td>28.595326</td>\n",
       "      <td>8.641447</td>\n",
       "      <td>0.998568</td>\n",
       "      <td>0.898644</td>\n",
       "      <td>1.968081</td>\n",
       "    </tr>\n",
       "  </tbody>\n",
       "</table>\n",
       "</div>"
      ],
      "text/plain": [
       "       area    perimeter  physiological_length  physiological_width  \\\n",
       "0  197787.0  3479.036035                  1416                  759   \n",
       "1  101297.0  2491.210239                  1191                  130   \n",
       "2   86626.5  2291.511754                  1096                  119   \n",
       "3  190481.0  2858.479352                  1319                  254   \n",
       "4  228035.0  2920.420478                  1325                  286   \n",
       "\n",
       "   aspect_ratio  rectangularity  circularity    mean_r     mean_g     mean_b  \\\n",
       "0      1.865613        5.433846    61.195588  6.395667  13.643413   4.388007   \n",
       "1      9.161538        1.528476    61.266656  7.049316   9.232018  10.876066   \n",
       "2      9.210084        1.505590    60.616856  3.434303   6.371511   2.644757   \n",
       "3      5.192913        1.758842    42.896164  7.670415  13.303599   6.049157   \n",
       "4      4.632867        1.661806    37.401521  8.992028  16.671173   6.294281   \n",
       "\n",
       "    stddev_r   stddev_g   stddev_b   contrast  correlation  \\\n",
       "0  24.025329  40.200931  21.448412  12.639688     0.997666   \n",
       "1  33.816205  37.382221  46.479230   8.137424     0.997191   \n",
       "2  19.975699  29.057374  19.275050   8.553729     0.996610   \n",
       "3  28.822885  40.221845  26.948604   8.440064     0.998419   \n",
       "4  30.967158  45.040198  28.595326   8.641447     0.998568   \n",
       "\n",
       "   inverse_difference_moments   entropy  \n",
       "0                    0.911738  1.688689  \n",
       "1                    0.944818  1.193795  \n",
       "2                    0.959023  0.848758  \n",
       "3                    0.914331  1.673914  \n",
       "4                    0.898644  1.968081  "
      ]
     },
     "execution_count": 10,
     "metadata": {},
     "output_type": "execute_result"
    }
   ],
   "source": [
    "X.head(5)"
   ]
  },
  {
   "cell_type": "code",
   "execution_count": 11,
   "id": "9b8b6555",
   "metadata": {},
   "outputs": [
    {
     "data": {
      "text/plain": [
       "array([0, 0, 0, 0, 0])"
      ]
     },
     "execution_count": 11,
     "metadata": {},
     "output_type": "execute_result"
    }
   ],
   "source": [
    "y[0:5]"
   ]
  },
  {
   "cell_type": "code",
   "execution_count": 12,
   "id": "aa1f1a92",
   "metadata": {},
   "outputs": [],
   "source": [
    "from sklearn.model_selection import train_test_split"
   ]
  },
  {
   "cell_type": "code",
   "execution_count": 13,
   "id": "4cef28da",
   "metadata": {},
   "outputs": [
    {
     "name": "stdout",
     "output_type": "stream",
     "text": [
      "           area    perimeter  physiological_length  physiological_width  \\\n",
      "1265   264206.5  3494.263523                  1369                  876   \n",
      "719    581838.0  3304.345568                  1281                  710   \n",
      "47         11.5    25.213203                     9                   10   \n",
      "397    542317.5  4241.406530                  1083                  973   \n",
      "1644   685010.0  3725.565916                  1139                  929   \n",
      "...         ...          ...                   ...                  ...   \n",
      "1329  1012459.5  4400.980125                  1489                 1067   \n",
      "1468   590070.0  3824.349750                  1462                  888   \n",
      "1186   450960.0  3962.686978                  1515                 1043   \n",
      "1370   855979.0  3962.394337                  1385                  964   \n",
      "1430   468241.0  4010.055370                  1454                 1024   \n",
      "\n",
      "      aspect_ratio  rectangularity  circularity     mean_r     mean_g  \\\n",
      "1265      1.562785        4.539040    46.213388  11.376662  21.234646   \n",
      "719       1.804225        1.563167    18.765876  25.070269  50.339131   \n",
      "47        0.900000        7.826087    55.278748  10.146755  17.972950   \n",
      "397       1.113052        1.943067    33.171582  26.086966  48.110169   \n",
      "1644      1.226050        1.544694    20.262246  31.909946  57.724894   \n",
      "...            ...             ...          ...        ...        ...   \n",
      "1329      1.395501        1.569211    19.130272  56.038512  92.234916   \n",
      "1468      1.646396        2.200173    24.786298  34.452546  57.131866   \n",
      "1186      1.452541        3.503958    34.821022  20.824846  32.488793   \n",
      "1370      1.436722        1.559781    18.342236  48.542377  88.684864   \n",
      "1430      1.419922        3.179764    34.342452  19.956345  40.039427   \n",
      "\n",
      "         mean_b   stddev_r   stddev_g   stddev_b   contrast  correlation  \\\n",
      "1265   8.554989  32.281313  52.825394  27.394474  11.775677     0.997775   \n",
      "719   13.916806  44.822141  76.611512  30.545878  29.355717     0.996316   \n",
      "47     8.554042  32.396968  47.321379  30.616253  12.842505     0.997724   \n",
      "397   17.650424  43.839197  75.737598  32.447698  15.951844     0.997692   \n",
      "1644  19.984481  48.891088  77.138904  35.353331  15.974427     0.998151   \n",
      "...         ...        ...        ...        ...        ...          ...   \n",
      "1329  37.735924  54.972689  86.797759  39.303305  43.063235     0.993708   \n",
      "1468  16.579291  53.852233  85.157359  31.508303  30.334883     0.994622   \n",
      "1186  16.892903  40.131293  58.662186  33.715885  21.540621     0.997301   \n",
      "1370  38.355282  54.657439  97.724035  44.826013   3.431319     0.999318   \n",
      "1430  10.671876  38.844609  69.696030  25.842854  20.754222     0.997135   \n",
      "\n",
      "      inverse_difference_moments   entropy  \n",
      "1265                    0.879416  2.317949  \n",
      "719                     0.736811  4.634661  \n",
      "47                      0.890439  2.104303  \n",
      "397                     0.763857  4.063750  \n",
      "1644                    0.713676  5.114103  \n",
      "...                          ...       ...  \n",
      "1329                    0.553562  6.817684  \n",
      "1468                    0.728819  4.622168  \n",
      "1186                    0.793261  3.513064  \n",
      "1370                    0.755076  4.830047  \n",
      "1430                    0.785995  3.636930  \n",
      "\n",
      "[1430 rows x 17 columns]           area    perimeter  physiological_length  physiological_width  \\\n",
      "989    56058.5  3840.919449                  1480                 1059   \n",
      "345   554906.5  3593.229908                  1274                  912   \n",
      "1269  230860.5  3514.679811                  1341                  964   \n",
      "753   774802.5  3853.950686                  1419                  846   \n",
      "1566  517952.5  3549.219804                  1291                  927   \n",
      "...        ...          ...                   ...                  ...   \n",
      "1258  247414.0  3520.163010                  1378                  882   \n",
      "1802  798393.5  4297.333374                  1156                 1111   \n",
      "406   763219.5  4972.474638                  1376                 1007   \n",
      "706   718945.5  3632.872476                  1399                  762   \n",
      "1352  836896.5  4010.886764                  1432                  960   \n",
      "\n",
      "      aspect_ratio  rectangularity  circularity     mean_r     mean_g  \\\n",
      "989       1.397545       27.958650   263.165483   4.977771   6.287883   \n",
      "345       1.396930        2.093845    23.267526  30.762769  52.827097   \n",
      "1269      1.391079        5.599589    53.508392  10.691192  18.356603   \n",
      "753       1.677305        1.549394    19.169964  29.499754  57.842591   \n",
      "1566      1.392665        2.310554    24.320688  15.643589  38.191317   \n",
      "...            ...             ...          ...        ...        ...   \n",
      "1258      1.562358        4.912398    50.084262  12.413172  20.290126   \n",
      "1802      1.040504        1.608625    23.130291  38.981193  66.513619   \n",
      "406       1.366435        1.815509    32.396321  38.755053  79.405748   \n",
      "706       1.835958        1.482780    18.357111  29.432117  55.939333   \n",
      "1352      1.491667        1.642640    19.222464  39.048485  71.647618   \n",
      "\n",
      "         mean_b   stddev_r   stddev_g   stddev_b   contrast  correlation  \\\n",
      "989    4.128082  27.689202  33.003713  25.551435   6.707360     0.993969   \n",
      "345   21.577348  49.493395  82.163691  35.808569  19.003576     0.996466   \n",
      "1269   8.840572  31.531517  49.232117  27.872257  11.910795     0.997370   \n",
      "753   21.080299  39.670872  70.299541  30.913213  22.554237     0.997874   \n",
      "1566   9.340261  40.912226  62.703319  38.774401   8.842176     0.999247   \n",
      "...         ...        ...        ...        ...        ...          ...   \n",
      "1258   9.397680  34.532950  52.439160  28.023103  15.647218     0.996416   \n",
      "1802  28.516283  49.342506  78.793097  38.047172  35.312669     0.995876   \n",
      "406   20.447208  50.160002  96.446764  30.788659  31.701486     0.994730   \n",
      "706   17.469389  45.417843  72.681760  31.657020  33.398986     0.996764   \n",
      "1352  33.080909  46.785761  80.636304  41.603136   4.080119     0.999502   \n",
      "\n",
      "      inverse_difference_moments   entropy  \n",
      "989                     0.965221  0.759219  \n",
      "345                     0.758816  4.137150  \n",
      "1269                    0.894085  2.022647  \n",
      "753                     0.691500  5.272299  \n",
      "1566                    0.791589  4.097064  \n",
      "...                          ...       ...  \n",
      "1258                    0.884611  2.174194  \n",
      "1802                    0.645853  5.925559  \n",
      "406                     0.652015  5.677966  \n",
      "706                     0.678181  5.545527  \n",
      "1352                    0.775989  4.732579  \n",
      "\n",
      "[286 rows x 17 columns]            area    perimeter  physiological_length  physiological_width  \\\n",
      "1176   290355.5  3495.057457                  1317                  953   \n",
      "1123  1179721.5  4180.155874                  1465                 1096   \n",
      "818    719019.0  3843.080627                  1454                  805   \n",
      "260    235215.5  1979.751430                   756                  374   \n",
      "999     55272.5  3560.326542                  1354                 1016   \n",
      "...         ...          ...                   ...                  ...   \n",
      "222    433528.5  2784.476388                  1102                  504   \n",
      "1064   886596.0  4182.325364                  1495                  963   \n",
      "1360   766582.5  3816.661368                  1397                  902   \n",
      "1543   673493.0  3927.344692                  1415                 1006   \n",
      "633    644969.0  3283.708045                  1258                  759   \n",
      "\n",
      "      aspect_ratio  rectangularity  circularity      mean_r      mean_g  \\\n",
      "1176      1.381952        4.322636    42.070588   13.402969   20.905335   \n",
      "1123      1.336679        1.361033    14.811719   66.650555  139.343149   \n",
      "818       1.806211        1.627871    20.540860  181.357782  216.674692   \n",
      "260       2.021390        1.202064    16.663084    4.915982   12.932228   \n",
      "999       1.332677       24.888760   229.335114    5.495178    6.632939   \n",
      "...            ...             ...          ...         ...         ...   \n",
      "222       2.186508        1.281134    17.884196   10.415855   30.126577   \n",
      "1064      1.552440        1.623834    19.729218   43.937827   78.440820   \n",
      "1360      1.548780        1.643781    19.002396   33.189406   62.166940   \n",
      "1543      1.406561        2.113593    22.901554   33.138923   57.427152   \n",
      "633       1.657444        1.480415    16.718228   33.702442   60.476025   \n",
      "\n",
      "          mean_b   stddev_r    stddev_g    stddev_b   contrast  correlation  \\\n",
      "1176   12.426781  34.050306   49.488386   31.595317  12.533215     0.997863   \n",
      "1123   36.284898  54.030857  111.500690   35.531733   3.385080     0.999006   \n",
      "818   166.107935  92.902963   46.996175  109.632472  55.569566     0.993908   \n",
      "260     4.592790  17.656457   35.426267   17.771824   6.206146     0.999161   \n",
      "999     5.139441  29.561370   34.173604   29.098317   5.781040     0.993880   \n",
      "...          ...        ...         ...         ...        ...          ...   \n",
      "222     7.189024  23.609885   55.757457   20.155428  10.484584     0.998905   \n",
      "1064   27.611988  49.263632   83.930430   33.605569  15.235898     0.998063   \n",
      "1360   25.517245  45.257753   75.194922   39.207066   3.223129     0.999665   \n",
      "1543   25.704638  56.791195   80.777116   46.834442  79.042503     0.991244   \n",
      "633    24.696687  49.586069   84.499100   37.646824  16.099599     0.997471   \n",
      "\n",
      "      inverse_difference_moments   entropy  \n",
      "1176                    0.867914  2.409391  \n",
      "1123                    0.662157  6.220054  \n",
      "818                     0.658130  5.880328  \n",
      "260                     0.901763  1.831607  \n",
      "999                     0.964585  0.760075  \n",
      "...                          ...       ...  \n",
      "222                     0.821640  3.059412  \n",
      "1064                    0.636905  5.816044  \n",
      "1360                    0.783822  4.682906  \n",
      "1543                    0.674004  5.826552  \n",
      "633                     0.725599  4.801006  \n",
      "\n",
      "[191 rows x 17 columns]\n"
     ]
    }
   ],
   "source": [
    "train_ratio = 0.75\n",
    "validation_ratio = 0.15\n",
    "test_ratio = 0.10\n",
    "\n",
    "X_train, X_test, y_train, y_test = train_test_split(X, y, test_size=1 - train_ratio)\n",
    "\n",
    "X_val, X_test, y_val, y_test = train_test_split(X_test, y_test, test_size=test_ratio/(test_ratio + validation_ratio)) \n",
    "\n",
    "print(X_train, X_val, X_test)"
   ]
  },
  {
   "cell_type": "code",
   "execution_count": 14,
   "id": "d70220d4",
   "metadata": {},
   "outputs": [],
   "source": [
    "# X_train, X_test, y_train, y_test = train_test_split(X, y, test_size=0.3, random_state = 142)"
   ]
  },
  {
   "cell_type": "code",
   "execution_count": 15,
   "id": "10047c03",
   "metadata": {},
   "outputs": [
    {
     "data": {
      "text/html": [
       "<div>\n",
       "<style scoped>\n",
       "    .dataframe tbody tr th:only-of-type {\n",
       "        vertical-align: middle;\n",
       "    }\n",
       "\n",
       "    .dataframe tbody tr th {\n",
       "        vertical-align: top;\n",
       "    }\n",
       "\n",
       "    .dataframe thead th {\n",
       "        text-align: right;\n",
       "    }\n",
       "</style>\n",
       "<table border=\"1\" class=\"dataframe\">\n",
       "  <thead>\n",
       "    <tr style=\"text-align: right;\">\n",
       "      <th></th>\n",
       "      <th>area</th>\n",
       "      <th>perimeter</th>\n",
       "      <th>physiological_length</th>\n",
       "      <th>physiological_width</th>\n",
       "      <th>aspect_ratio</th>\n",
       "      <th>rectangularity</th>\n",
       "      <th>circularity</th>\n",
       "      <th>mean_r</th>\n",
       "      <th>mean_g</th>\n",
       "      <th>mean_b</th>\n",
       "      <th>stddev_r</th>\n",
       "      <th>stddev_g</th>\n",
       "      <th>stddev_b</th>\n",
       "      <th>contrast</th>\n",
       "      <th>correlation</th>\n",
       "      <th>inverse_difference_moments</th>\n",
       "      <th>entropy</th>\n",
       "    </tr>\n",
       "  </thead>\n",
       "  <tbody>\n",
       "    <tr>\n",
       "      <th>1265</th>\n",
       "      <td>264206.5</td>\n",
       "      <td>3494.263523</td>\n",
       "      <td>1369</td>\n",
       "      <td>876</td>\n",
       "      <td>1.562785</td>\n",
       "      <td>4.539040</td>\n",
       "      <td>46.213388</td>\n",
       "      <td>11.376662</td>\n",
       "      <td>21.234646</td>\n",
       "      <td>8.554989</td>\n",
       "      <td>32.281313</td>\n",
       "      <td>52.825394</td>\n",
       "      <td>27.394474</td>\n",
       "      <td>11.775677</td>\n",
       "      <td>0.997775</td>\n",
       "      <td>0.879416</td>\n",
       "      <td>2.317949</td>\n",
       "    </tr>\n",
       "    <tr>\n",
       "      <th>719</th>\n",
       "      <td>581838.0</td>\n",
       "      <td>3304.345568</td>\n",
       "      <td>1281</td>\n",
       "      <td>710</td>\n",
       "      <td>1.804225</td>\n",
       "      <td>1.563167</td>\n",
       "      <td>18.765876</td>\n",
       "      <td>25.070269</td>\n",
       "      <td>50.339131</td>\n",
       "      <td>13.916806</td>\n",
       "      <td>44.822141</td>\n",
       "      <td>76.611512</td>\n",
       "      <td>30.545878</td>\n",
       "      <td>29.355717</td>\n",
       "      <td>0.996316</td>\n",
       "      <td>0.736811</td>\n",
       "      <td>4.634661</td>\n",
       "    </tr>\n",
       "    <tr>\n",
       "      <th>47</th>\n",
       "      <td>11.5</td>\n",
       "      <td>25.213203</td>\n",
       "      <td>9</td>\n",
       "      <td>10</td>\n",
       "      <td>0.900000</td>\n",
       "      <td>7.826087</td>\n",
       "      <td>55.278748</td>\n",
       "      <td>10.146755</td>\n",
       "      <td>17.972950</td>\n",
       "      <td>8.554042</td>\n",
       "      <td>32.396968</td>\n",
       "      <td>47.321379</td>\n",
       "      <td>30.616253</td>\n",
       "      <td>12.842505</td>\n",
       "      <td>0.997724</td>\n",
       "      <td>0.890439</td>\n",
       "      <td>2.104303</td>\n",
       "    </tr>\n",
       "    <tr>\n",
       "      <th>397</th>\n",
       "      <td>542317.5</td>\n",
       "      <td>4241.406530</td>\n",
       "      <td>1083</td>\n",
       "      <td>973</td>\n",
       "      <td>1.113052</td>\n",
       "      <td>1.943067</td>\n",
       "      <td>33.171582</td>\n",
       "      <td>26.086966</td>\n",
       "      <td>48.110169</td>\n",
       "      <td>17.650424</td>\n",
       "      <td>43.839197</td>\n",
       "      <td>75.737598</td>\n",
       "      <td>32.447698</td>\n",
       "      <td>15.951844</td>\n",
       "      <td>0.997692</td>\n",
       "      <td>0.763857</td>\n",
       "      <td>4.063750</td>\n",
       "    </tr>\n",
       "    <tr>\n",
       "      <th>1644</th>\n",
       "      <td>685010.0</td>\n",
       "      <td>3725.565916</td>\n",
       "      <td>1139</td>\n",
       "      <td>929</td>\n",
       "      <td>1.226050</td>\n",
       "      <td>1.544694</td>\n",
       "      <td>20.262246</td>\n",
       "      <td>31.909946</td>\n",
       "      <td>57.724894</td>\n",
       "      <td>19.984481</td>\n",
       "      <td>48.891088</td>\n",
       "      <td>77.138904</td>\n",
       "      <td>35.353331</td>\n",
       "      <td>15.974427</td>\n",
       "      <td>0.998151</td>\n",
       "      <td>0.713676</td>\n",
       "      <td>5.114103</td>\n",
       "    </tr>\n",
       "  </tbody>\n",
       "</table>\n",
       "</div>"
      ],
      "text/plain": [
       "          area    perimeter  physiological_length  physiological_width  \\\n",
       "1265  264206.5  3494.263523                  1369                  876   \n",
       "719   581838.0  3304.345568                  1281                  710   \n",
       "47        11.5    25.213203                     9                   10   \n",
       "397   542317.5  4241.406530                  1083                  973   \n",
       "1644  685010.0  3725.565916                  1139                  929   \n",
       "\n",
       "      aspect_ratio  rectangularity  circularity     mean_r     mean_g  \\\n",
       "1265      1.562785        4.539040    46.213388  11.376662  21.234646   \n",
       "719       1.804225        1.563167    18.765876  25.070269  50.339131   \n",
       "47        0.900000        7.826087    55.278748  10.146755  17.972950   \n",
       "397       1.113052        1.943067    33.171582  26.086966  48.110169   \n",
       "1644      1.226050        1.544694    20.262246  31.909946  57.724894   \n",
       "\n",
       "         mean_b   stddev_r   stddev_g   stddev_b   contrast  correlation  \\\n",
       "1265   8.554989  32.281313  52.825394  27.394474  11.775677     0.997775   \n",
       "719   13.916806  44.822141  76.611512  30.545878  29.355717     0.996316   \n",
       "47     8.554042  32.396968  47.321379  30.616253  12.842505     0.997724   \n",
       "397   17.650424  43.839197  75.737598  32.447698  15.951844     0.997692   \n",
       "1644  19.984481  48.891088  77.138904  35.353331  15.974427     0.998151   \n",
       "\n",
       "      inverse_difference_moments   entropy  \n",
       "1265                    0.879416  2.317949  \n",
       "719                     0.736811  4.634661  \n",
       "47                      0.890439  2.104303  \n",
       "397                     0.763857  4.063750  \n",
       "1644                    0.713676  5.114103  "
      ]
     },
     "execution_count": 15,
     "metadata": {},
     "output_type": "execute_result"
    }
   ],
   "source": [
    "X_train.head(5)\n"
   ]
  },
  {
   "cell_type": "code",
   "execution_count": 16,
   "id": "d70febb1",
   "metadata": {},
   "outputs": [],
   "source": [
    "from sklearn.preprocessing import StandardScaler"
   ]
  },
  {
   "cell_type": "code",
   "execution_count": 17,
   "id": "166ee692",
   "metadata": {},
   "outputs": [],
   "source": [
    "sc_X = StandardScaler()\n",
    "X_train = sc_X.fit_transform(X_train)\n",
    "X_test = sc_X.transform(X_test)"
   ]
  },
  {
   "cell_type": "code",
   "execution_count": 18,
   "id": "b62b773a",
   "metadata": {},
   "outputs": [
    {
     "data": {
      "text/plain": [
       "array([[-1.28176361, -0.30033398,  0.24555865, -0.01102278, -0.06293625,\n",
       "         0.37408453,  0.30370883, -0.65386914, -0.87353958, -0.52158232,\n",
       "        -0.83415247, -0.96500657, -0.51837843, -0.57182135,  0.47458012,\n",
       "         1.33938541, -1.32359204],\n",
       "       [-0.07632002, -0.54414658, -0.12154243, -0.71101922,  0.34502057,\n",
       "        -0.30901034, -0.35301851, -0.29984128, -0.22962775, -0.37659595,\n",
       "        -0.06452387,  0.40088133, -0.36253164,  0.08344034, -0.21628628,\n",
       "        -0.08151934,  0.11167994]])"
      ]
     },
     "execution_count": 18,
     "metadata": {},
     "output_type": "execute_result"
    }
   ],
   "source": [
    "X_train[0:2]"
   ]
  },
  {
   "cell_type": "code",
   "execution_count": 19,
   "id": "002939bb",
   "metadata": {},
   "outputs": [
    {
     "data": {
      "text/plain": [
       "array([20, 11])"
      ]
     },
     "execution_count": 19,
     "metadata": {},
     "output_type": "execute_result"
    }
   ],
   "source": [
    "y_train[0:2]"
   ]
  },
  {
   "cell_type": "code",
   "execution_count": 20,
   "id": "75a7f683",
   "metadata": {},
   "outputs": [],
   "source": [
    "from sklearn import svm\n"
   ]
  },
  {
   "cell_type": "code",
   "execution_count": 21,
   "id": "5ffbc7ed",
   "metadata": {},
   "outputs": [
    {
     "data": {
      "text/plain": [
       "SVC()"
      ]
     },
     "execution_count": 21,
     "metadata": {},
     "output_type": "execute_result"
    }
   ],
   "source": [
    "clf = svm.SVC()\n",
    "clf.fit(X_train,y_train)"
   ]
  },
  {
   "cell_type": "code",
   "execution_count": 22,
   "id": "045c2e91",
   "metadata": {},
   "outputs": [],
   "source": [
    "y_pred = clf.predict(X_test)"
   ]
  },
  {
   "cell_type": "code",
   "execution_count": 23,
   "id": "023964b2",
   "metadata": {},
   "outputs": [],
   "source": [
    "from sklearn import metrics\n",
    "from sklearn.metrics import confusion_matrix"
   ]
  },
  {
   "cell_type": "code",
   "execution_count": 24,
   "id": "558407e9",
   "metadata": {},
   "outputs": [
    {
     "data": {
      "text/plain": [
       "0.7801047120418848"
      ]
     },
     "execution_count": 24,
     "metadata": {},
     "output_type": "execute_result"
    }
   ],
   "source": [
    "metrics.accuracy_score(y_test, y_pred)"
   ]
  },
  {
   "cell_type": "code",
   "execution_count": 25,
   "id": "52243904",
   "metadata": {},
   "outputs": [
    {
     "data": {
      "text/plain": [
       "array([[4, 0, 0, ..., 0, 0, 0],\n",
       "       [0, 5, 0, ..., 0, 0, 0],\n",
       "       [0, 0, 5, ..., 0, 0, 0],\n",
       "       ...,\n",
       "       [0, 0, 0, ..., 5, 0, 0],\n",
       "       [0, 0, 0, ..., 0, 5, 0],\n",
       "       [0, 0, 0, ..., 0, 0, 4]], dtype=int64)"
      ]
     },
     "execution_count": 25,
     "metadata": {},
     "output_type": "execute_result"
    }
   ],
   "source": [
    "cm = confusion_matrix(y_test, y_pred)\n",
    "cm"
   ]
  },
  {
   "cell_type": "code",
   "execution_count": 26,
   "id": "474ed3e1",
   "metadata": {},
   "outputs": [
    {
     "data": {
      "image/png": "[encoded data removed]",
      "text/plain": [
       "<Figure size 432x288 with 2 Axes>"
      ]
     },
     "metadata": {
      "needs_background": "light"
     },
     "output_type": "display_data"
    }
   ],
   "source": [
    "sn.heatmap(cm, \n",
    "            annot=True,\n",
    "            fmt='g', \n",
    "            xticklabels=['pubescent bamboo','Chinese horse chestnut','Anhui Barberry', \\\n",
    "                'Chinese redbud','true indigo','Japanese maple','Nanmu',' castor aralia', \\\n",
    "                'Chinese cinnamon','goldenrain tree','Big-fruited Holly','Japanese cheesewood', \\\n",
    "                'wintersweet','camphortree','Japan Arrowwood','sweet osmanthus','deodar','ginkgo, maidenhair tree', \\\n",
    "                'Crape myrtle, Crepe myrtle','oleander','yew plum pine','Japanese Flowering Cherry','Glossy Privet',\\\n",
    "                'Chinese Toon','peach','Ford Woodlotus','trident maple','Beales barberry','southern magnolia',\\\n",
    "                'Canadian poplar','Chinese tulip tree','tangerine'],\n",
    "            yticklabels=['pubescent bamboo','Chinese horse chestnut','Anhui Barberry', \\\n",
    "                'Chinese redbud','true indigo','Japanese maple','Nanmu',' castor aralia', \\\n",
    "                'Chinese cinnamon','goldenrain tree','Big-fruited Holly','Japanese cheesewood', \\\n",
    "                'wintersweet','camphortree','Japan Arrowwood','sweet osmanthus','deodar','ginkgo, maidenhair tree', \\\n",
    "                'Crape myrtle, Crepe myrtle','oleander','yew plum pine','Japanese Flowering Cherry','Glossy Privet',\\\n",
    "                'Chinese Toon','peach','Ford Woodlotus','trident maple','Beales barberry','southern magnolia',\\\n",
    "                'Canadian poplar','Chinese tulip tree','tangerine'])\n",
    "plt.ylabel('Prediction',fontsize=13)\n",
    "plt.xlabel('Actual',fontsize=13)\n",
    "plt.title('Confusion Matrix',fontsize=25)\n",
    "plt.show()\n",
    " "
   ]
  },
  {
   "cell_type": "code",
   "execution_count": 27,
   "id": "69f73094",
   "metadata": {},
   "outputs": [
    {
     "name": "stdout",
     "output_type": "stream",
     "text": [
      "              precision    recall  f1-score   support\n",
      "\n",
      "           0       0.80      0.50      0.62         8\n",
      "           1       0.50      0.62      0.56         8\n",
      "           2       0.83      0.83      0.83         6\n",
      "           3       0.83      1.00      0.91         5\n",
      "           4       1.00      1.00      1.00         8\n",
      "           5       1.00      1.00      1.00         7\n",
      "           6       0.60      0.75      0.67         4\n",
      "           7       0.83      0.83      0.83         6\n",
      "           8       0.60      0.50      0.55         6\n",
      "           9       1.00      0.67      0.80         3\n",
      "          10       0.27      1.00      0.43         3\n",
      "          11       0.75      1.00      0.86         3\n",
      "          12       0.33      0.14      0.20         7\n",
      "          13       1.00      0.62      0.77         8\n",
      "          14       0.83      0.83      0.83         6\n",
      "          15       0.80      0.67      0.73         6\n",
      "          16       1.00      1.00      1.00         8\n",
      "          17       0.83      0.83      0.83         6\n",
      "          18       1.00      0.78      0.88         9\n",
      "          19       0.57      0.80      0.67         5\n",
      "          20       0.50      0.80      0.62         5\n",
      "          21       0.50      0.67      0.57         3\n",
      "          22       1.00      1.00      1.00         8\n",
      "          23       0.82      0.90      0.86        10\n",
      "          24       1.00      0.75      0.86         4\n",
      "          25       0.50      0.40      0.44         5\n",
      "          26       1.00      0.75      0.86         4\n",
      "          27       1.00      0.78      0.88         9\n",
      "          28       0.83      0.83      0.83         6\n",
      "          29       1.00      1.00      1.00         5\n",
      "          30       1.00      0.83      0.91         6\n",
      "          31       0.80      1.00      0.89         4\n",
      "\n",
      "    accuracy                           0.78       191\n",
      "   macro avg       0.79      0.78      0.77       191\n",
      "weighted avg       0.81      0.78      0.78       191\n",
      "\n"
     ]
    }
   ],
   "source": [
    "print(metrics.classification_report(y_test, y_pred))"
   ]
  },
  {
   "cell_type": "code",
   "execution_count": 28,
   "id": "7caaf617",
   "metadata": {},
   "outputs": [],
   "source": [
    "from sklearn.model_selection import GridSearchCV\n",
    "from sklearn.svm import SVC\n",
    "svc = SVC()"
   ]
  },
  {
   "cell_type": "code",
   "execution_count": 29,
   "id": "1d659c10",
   "metadata": {},
   "outputs": [],
   "source": [
    "parameters = [{'kernel': ['rbf'],\n",
    "               'gamma': [1e-4, 1e-3, 0.01, 0.1, 0.2, 0.5],\n",
    "               'C': [1, 10, 100, 1000]},\n",
    "              {'kernel': ['linear'], 'C': [1, 10, 100, 1000]}\n",
    "             ]"
   ]
  },
  {
   "cell_type": "code",
   "execution_count": 30,
   "id": "35baf3a5",
   "metadata": {},
   "outputs": [
    {
     "data": {
      "text/plain": [
       "GridSearchCV(cv=5, estimator=SVC(),\n",
       "             param_grid=[{'C': [1, 10, 100, 1000],\n",
       "                          'gamma': [0.0001, 0.001, 0.01, 0.1, 0.2, 0.5],\n",
       "                          'kernel': ['rbf']},\n",
       "                         {'C': [1, 10, 100, 1000], 'kernel': ['linear']}])"
      ]
     },
     "execution_count": 30,
     "metadata": {},
     "output_type": "execute_result"
    }
   ],
   "source": [
    "svm_clf = GridSearchCV(svm.SVC(decision_function_shape='ovr'), parameters, cv=5)\n",
    "svm_clf.fit(X_train, y_train)"
   ]
  },
  {
   "cell_type": "code",
   "execution_count": 31,
   "id": "3aa568e4",
   "metadata": {},
   "outputs": [
    {
     "data": {
      "text/plain": [
       "{'C': 100, 'kernel': 'linear'}"
      ]
     },
     "execution_count": 31,
     "metadata": {},
     "output_type": "execute_result"
    }
   ],
   "source": [
    "svm_clf.best_params_"
   ]
  },
  {
   "cell_type": "code",
   "execution_count": null,
   "id": "aebe80f9",
   "metadata": {},
   "outputs": [],
   "source": []
  },
  {
   "cell_type": "code",
   "execution_count": null,
   "id": "5b63c5ca",
   "metadata": {},
   "outputs": [],
   "source": []
  },
  {
   "cell_type": "code",
   "execution_count": 32,
   "id": "e52401f2",
   "metadata": {},
   "outputs": [
    {
     "name": "stdout",
     "output_type": "stream",
     "text": [
      "0.055 (+/-0.037) for {'C': 1, 'gamma': 0.0001, 'kernel': 'rbf'}\n",
      "0.206 (+/-0.008) for {'C': 1, 'gamma': 0.001, 'kernel': 'rbf'}\n",
      "0.615 (+/-0.036) for {'C': 1, 'gamma': 0.01, 'kernel': 'rbf'}\n",
      "0.830 (+/-0.023) for {'C': 1, 'gamma': 0.1, 'kernel': 'rbf'}\n",
      "0.852 (+/-0.029) for {'C': 1, 'gamma': 0.2, 'kernel': 'rbf'}\n",
      "0.858 (+/-0.030) for {'C': 1, 'gamma': 0.5, 'kernel': 'rbf'}\n",
      "0.206 (+/-0.008) for {'C': 10, 'gamma': 0.0001, 'kernel': 'rbf'}\n",
      "0.622 (+/-0.030) for {'C': 10, 'gamma': 0.001, 'kernel': 'rbf'}\n",
      "0.836 (+/-0.030) for {'C': 10, 'gamma': 0.01, 'kernel': 'rbf'}\n",
      "0.892 (+/-0.023) for {'C': 10, 'gamma': 0.1, 'kernel': 'rbf'}\n",
      "0.889 (+/-0.034) for {'C': 10, 'gamma': 0.2, 'kernel': 'rbf'}\n",
      "0.872 (+/-0.026) for {'C': 10, 'gamma': 0.5, 'kernel': 'rbf'}\n",
      "0.624 (+/-0.035) for {'C': 100, 'gamma': 0.0001, 'kernel': 'rbf'}\n",
      "0.826 (+/-0.026) for {'C': 100, 'gamma': 0.001, 'kernel': 'rbf'}\n",
      "0.888 (+/-0.039) for {'C': 100, 'gamma': 0.01, 'kernel': 'rbf'}\n",
      "0.891 (+/-0.027) for {'C': 100, 'gamma': 0.1, 'kernel': 'rbf'}\n",
      "0.884 (+/-0.036) for {'C': 100, 'gamma': 0.2, 'kernel': 'rbf'}\n",
      "0.873 (+/-0.024) for {'C': 100, 'gamma': 0.5, 'kernel': 'rbf'}\n",
      "0.823 (+/-0.020) for {'C': 1000, 'gamma': 0.0001, 'kernel': 'rbf'}\n",
      "0.884 (+/-0.027) for {'C': 1000, 'gamma': 0.001, 'kernel': 'rbf'}\n",
      "0.893 (+/-0.043) for {'C': 1000, 'gamma': 0.01, 'kernel': 'rbf'}\n",
      "0.889 (+/-0.032) for {'C': 1000, 'gamma': 0.1, 'kernel': 'rbf'}\n",
      "0.880 (+/-0.038) for {'C': 1000, 'gamma': 0.2, 'kernel': 'rbf'}\n",
      "0.871 (+/-0.023) for {'C': 1000, 'gamma': 0.5, 'kernel': 'rbf'}\n",
      "0.871 (+/-0.030) for {'C': 1, 'kernel': 'linear'}\n",
      "0.897 (+/-0.031) for {'C': 10, 'kernel': 'linear'}\n",
      "0.901 (+/-0.022) for {'C': 100, 'kernel': 'linear'}\n",
      "0.899 (+/-0.027) for {'C': 1000, 'kernel': 'linear'}\n"
     ]
    }
   ],
   "source": [
    "means = svm_clf.cv_results_['mean_test_score']\n",
    "stds = svm_clf.cv_results_['std_test_score']\n",
    "for mean, std, params in zip(means, stds, svm_clf.cv_results_['params']):\n",
    "    print(\"%0.3f (+/-%0.03f) for %r\" % (mean, std * 2, params))"
   ]
  },
  {
   "cell_type": "code",
   "execution_count": 33,
   "id": "81727b60",
   "metadata": {},
   "outputs": [],
   "source": [
    "y_pred_svm = svm_clf.predict(X_test)"
   ]
  },
  {
   "cell_type": "code",
   "execution_count": 34,
   "id": "d78d9fe6",
   "metadata": {},
   "outputs": [
    {
     "data": {
      "text/plain": [
       "0.9162303664921466"
      ]
     },
     "execution_count": 34,
     "metadata": {},
     "output_type": "execute_result"
    }
   ],
   "source": [
    "accuracy = metrics.accuracy_score(y_test, y_pred_svm)\n",
    "accuracy"
   ]
  },
  {
   "cell_type": "code",
   "execution_count": 35,
   "id": "5d7c1017",
   "metadata": {},
   "outputs": [
    {
     "data": {
      "text/plain": [
       "array([[7, 0, 0, ..., 0, 0, 0],\n",
       "       [0, 6, 0, ..., 0, 0, 0],\n",
       "       [0, 0, 6, ..., 0, 0, 0],\n",
       "       ...,\n",
       "       [0, 0, 0, ..., 5, 0, 0],\n",
       "       [0, 0, 0, ..., 0, 6, 0],\n",
       "       [0, 0, 0, ..., 0, 0, 4]], dtype=int64)"
      ]
     },
     "execution_count": 35,
     "metadata": {},
     "output_type": "execute_result"
    }
   ],
   "source": [
    "cm1 = confusion_matrix(y_test, y_pred_svm)\n",
    "cm1"
   ]
  },
  {
   "cell_type": "code",
   "execution_count": 36,
   "id": "8a73ef32",
   "metadata": {},
   "outputs": [],
   "source": [
    "# WIDTH_SIZE  = 500\n",
    "# HEIGHT_SIZE = 500\n",
    "# figure(figsize=(WIDTH_SIZE,HEIGHT_SIZE))"
   ]
  },
  {
   "cell_type": "code",
   "execution_count": 37,
   "id": "d53eb735",
   "metadata": {},
   "outputs": [
    {
     "data": {
      "image/png": "[encoded data removed]",
      "text/plain": [
       "<Figure size 432x288 with 2 Axes>"
      ]
     },
     "metadata": {
      "needs_background": "light"
     },
     "output_type": "display_data"
    },
    {
     "data": {
      "text/plain": [
       "<Figure size 1080x576 with 0 Axes>"
      ]
     },
     "metadata": {},
     "output_type": "display_data"
    }
   ],
   "source": [
    "sn.heatmap(cm1, \n",
    "            annot=True,\n",
    "            fmt='g', \n",
    "            xticklabels=['pubescent bamboo','Chinese horse chestnut','Anhui Barberry', \\\n",
    "                'Chinese redbud','true indigo','Japanese maple','Nanmu',' castor aralia', \\\n",
    "                'Chinese cinnamon','goldenrain tree','Big-fruited Holly','Japanese cheesewood', \\\n",
    "                'wintersweet','camphortree','Japan Arrowwood','sweet osmanthus','deodar','ginkgo, maidenhair tree', \\\n",
    "                'Crape myrtle, Crepe myrtle','oleander','yew plum pine','Japanese Flowering Cherry','Glossy Privet',\\\n",
    "                'Chinese Toon','peach','Ford Woodlotus','trident maple','Beales barberry','southern magnolia',\\\n",
    "                'Canadian poplar','Chinese tulip tree','tangerine'],\n",
    "            yticklabels=['pubescent bamboo','Chinese horse chestnut','Anhui Barberry', \\\n",
    "                'Chinese redbud','true indigo','Japanese maple','Nanmu',' castor aralia', \\\n",
    "                'Chinese cinnamon','goldenrain tree','Big-fruited Holly','Japanese cheesewood', \\\n",
    "                'wintersweet','camphortree','Japan Arrowwood','sweet osmanthus','deodar','ginkgo, maidenhair tree', \\\n",
    "                'Crape myrtle, Crepe myrtle','oleander','yew plum pine','Japanese Flowering Cherry','Glossy Privet',\\\n",
    "                'Chinese Toon','peach','Ford Woodlotus','trident maple','Beales barberry','southern magnolia',\\\n",
    "                'Canadian poplar','Chinese tulip tree','tangerine'])\n",
    "plt.ylabel('Prediction',fontsize=13)\n",
    "plt.xlabel('Actual',fontsize=13)\n",
    "plt.title('Confusion Matrix',fontsize=25)\n",
    "plt.figure(figsize=(15,8))\n",
    "plt.show()\n",
    "\n",
    "\n"
   ]
  },
  {
   "cell_type": "code",
   "execution_count": null,
   "id": "842a1406",
   "metadata": {},
   "outputs": [],
   "source": []
  },
  {
   "cell_type": "code",
   "execution_count": 38,
   "id": "3c45aec6",
   "metadata": {},
   "outputs": [
    {
     "name": "stdout",
     "output_type": "stream",
     "text": [
      "              precision    recall  f1-score   support\n",
      "\n",
      "           0       0.88      0.88      0.88         8\n",
      "           1       0.67      0.75      0.71         8\n",
      "           2       0.86      1.00      0.92         6\n",
      "           3       1.00      1.00      1.00         5\n",
      "           4       1.00      1.00      1.00         8\n",
      "           5       0.88      1.00      0.93         7\n",
      "           6       1.00      1.00      1.00         4\n",
      "           7       1.00      1.00      1.00         6\n",
      "           8       1.00      0.83      0.91         6\n",
      "           9       1.00      0.67      0.80         3\n",
      "          10       0.75      1.00      0.86         3\n",
      "          11       0.60      1.00      0.75         3\n",
      "          12       1.00      0.86      0.92         7\n",
      "          13       0.75      0.75      0.75         8\n",
      "          14       1.00      0.83      0.91         6\n",
      "          15       1.00      0.67      0.80         6\n",
      "          16       1.00      1.00      1.00         8\n",
      "          17       0.83      0.83      0.83         6\n",
      "          18       1.00      0.89      0.94         9\n",
      "          19       0.83      1.00      0.91         5\n",
      "          20       1.00      1.00      1.00         5\n",
      "          21       0.75      1.00      0.86         3\n",
      "          22       1.00      1.00      1.00         8\n",
      "          23       0.90      0.90      0.90        10\n",
      "          24       1.00      1.00      1.00         4\n",
      "          25       1.00      0.80      0.89         5\n",
      "          26       1.00      1.00      1.00         4\n",
      "          27       1.00      1.00      1.00         9\n",
      "          28       0.83      0.83      0.83         6\n",
      "          29       1.00      1.00      1.00         5\n",
      "          30       1.00      1.00      1.00         6\n",
      "          31       1.00      1.00      1.00         4\n",
      "\n",
      "    accuracy                           0.92       191\n",
      "   macro avg       0.92      0.92      0.92       191\n",
      "weighted avg       0.93      0.92      0.92       191\n",
      "\n"
     ]
    }
   ],
   "source": [
    "print(metrics.classification_report(y_test, y_pred_svm))\n"
   ]
  },
  {
   "cell_type": "code",
   "execution_count": 39,
   "id": "5d366a08",
   "metadata": {},
   "outputs": [],
   "source": [
    "from sklearn.decomposition import PCA"
   ]
  },
  {
   "cell_type": "code",
   "execution_count": 40,
   "id": "a3342c83",
   "metadata": {},
   "outputs": [],
   "source": [
    "pca = PCA()"
   ]
  },
  {
   "cell_type": "code",
   "execution_count": 41,
   "id": "0b6c2a59",
   "metadata": {},
   "outputs": [
    {
     "data": {
      "text/plain": [
       "PCA()"
      ]
     },
     "execution_count": 41,
     "metadata": {},
     "output_type": "execute_result"
    }
   ],
   "source": [
    "pca.fit(X)"
   ]
  },
  {
   "cell_type": "code",
   "execution_count": 42,
   "id": "27605132",
   "metadata": {},
   "outputs": [
    {
     "data": {
      "text/plain": [
       "array([9.99992850e-01, 6.46252547e-06, 3.92421104e-07, 2.07420965e-07,\n",
       "       6.10351124e-08, 1.36319644e-08, 8.97309526e-09, 2.57948567e-09,\n",
       "       8.58148044e-10, 2.05591984e-10, 1.06493821e-10, 1.30658857e-11,\n",
       "       2.26591998e-12, 1.38328640e-12, 5.57713116e-13, 3.37431048e-15,\n",
       "       1.00979877e-17])"
      ]
     },
     "execution_count": 42,
     "metadata": {},
     "output_type": "execute_result"
    }
   ],
   "source": [
    "var= pca.explained_variance_ratio_\n",
    "var"
   ]
  },
  {
   "cell_type": "code",
   "execution_count": 43,
   "id": "dddb2a2e",
   "metadata": {},
   "outputs": [],
   "source": [
    "import matplotlib.pyplot as plt\n",
    "%matplotlib inline"
   ]
  },
  {
   "cell_type": "code",
   "execution_count": 44,
   "id": "01a27c5c",
   "metadata": {},
   "outputs": [
    {
     "data": {
      "text/plain": [
       "[<matplotlib.lines.Line2D at 0x1f9dc359f70>]"
      ]
     },
     "execution_count": 44,
     "metadata": {},
     "output_type": "execute_result"
    },
    {
     "data": {
      "image/png": "[encoded data removed]",
      "text/plain": [
       "<Figure size 432x288 with 1 Axes>"
      ]
     },
     "metadata": {
      "needs_background": "light"
     },
     "output_type": "display_data"
    }
   ],
   "source": [
    "var1=np.cumsum(np.round(pca.explained_variance_ratio_, decimals=4)*100)\n",
    "plt.plot(var1)"
   ]
  },
  {
   "cell_type": "code",
   "execution_count": 45,
   "id": "291d2109",
   "metadata": {},
   "outputs": [],
   "source": [
    "import os\n",
    "import cv2"
   ]
  },
  {
   "cell_type": "code",
   "execution_count": 46,
   "id": "68a92090",
   "metadata": {},
   "outputs": [],
   "source": [
    "def bg_sub(filename):\n",
    "    test_img_path = 'standardleaves\\\\' + filename\n",
    "    main_img = cv2.imread(test_img_path)\n",
    "    img = cv2.cvtColor(main_img, cv2.COLOR_BGR2RGB)\n",
    "    resized_image = cv2.resize(img, (1600, 1200))\n",
    "    size_y,size_x,_ = img.shape\n",
    "    gs = cv2.cvtColor(resized_image,cv2.COLOR_RGB2GRAY)\n",
    "    blur = cv2.GaussianBlur(gs, (55,55),0)\n",
    "    ret_otsu,im_bw_otsu = cv2.threshold(blur,0,255,cv2.THRESH_BINARY_INV+cv2.THRESH_OTSU)\n",
    "    kernel = np.ones((50,50),np.uint8)\n",
    "    closing = cv2.morphologyEx(im_bw_otsu, cv2.MORPH_CLOSE, kernel)\n",
    "    \n",
    "    contours, hierarchy = cv2.findContours(closing,cv2.RETR_TREE,cv2.CHAIN_APPROX_SIMPLE)\n",
    "    \n",
    "    contains = []\n",
    "    y_ri,x_ri, _ = resized_image.shape\n",
    "    for cc in contours:\n",
    "        yn = cv2.pointPolygonTest(cc,(x_ri//2,y_ri//2),False)\n",
    "        contains.append(yn)\n",
    "\n",
    "    val = [contains.index(temp) for temp in contains if temp>0]\n",
    "    index = val[0]\n",
    "    \n",
    "    black_img = np.empty([1200,1600,3],dtype=np.uint8)\n",
    "    black_img.fill(0)\n",
    "    \n",
    "    cnt = contours[index]\n",
    "    mask = cv2.drawContours(black_img, [cnt] , 0, (255,255,255), -1)\n",
    "    \n",
    "    maskedImg = cv2.bitwise_and(resized_image, mask)\n",
    "    white_pix = [255,255,255]\n",
    "    black_pix = [0,0,0]\n",
    "        \n",
    "    final_img = maskedImg\n",
    "    h,w,channels = final_img.shape\n",
    "    for x in range(0,w):\n",
    "        for y in range(0,h):\n",
    "            channels_xy = final_img[y,x]\n",
    "            if all(channels_xy == black_pix):\n",
    "                final_img[y,x] = white_pix\n",
    "    \n",
    "    return final_img"
   ]
  },
  {
   "cell_type": "code",
   "execution_count": 47,
   "id": "0d4ed4db",
   "metadata": {},
   "outputs": [],
   "source": [
    "filename = '16.jpg' \n",
    "bg_rem_img = bg_sub(filename)"
   ]
  },
  {
   "cell_type": "code",
   "execution_count": 48,
   "id": "7bc6e9fd",
   "metadata": {},
   "outputs": [
    {
     "data": {
      "text/plain": [
       "<matplotlib.image.AxesImage at 0x1f9dc5a91f0>"
      ]
     },
     "execution_count": 48,
     "metadata": {},
     "output_type": "execute_result"
    },
    {
     "data": {
      "image/png": "[encoded data removed]",
      "text/plain": [
       "<Figure size 432x288 with 1 Axes>"
      ]
     },
     "metadata": {
      "needs_background": "light"
     },
     "output_type": "display_data"
    }
   ],
   "source": [
    "plt.imshow(bg_rem_img)"
   ]
  },
  {
   "cell_type": "code",
   "execution_count": 49,
   "id": "03df3477",
   "metadata": {},
   "outputs": [],
   "source": [
    "import mahotas as mt"
   ]
  },
  {
   "cell_type": "code",
   "execution_count": 50,
   "id": "e922063d",
   "metadata": {},
   "outputs": [],
   "source": [
    "def feature_extract(img):\n",
    "    names = ['area','perimeter','pysiological_length','pysiological_width','aspect_ratio','rectangularity','circularity', \\\n",
    "             'mean_r','mean_g','mean_b','stddev_r','stddev_g','stddev_b', \\\n",
    "             'contrast','correlation','inverse_difference_moments','entropy'\n",
    "            ]\n",
    "    df = pd.DataFrame([], columns=names)\n",
    "\n",
    "    #Preprocessing\n",
    "    gs = cv2.cvtColor(img,cv2.COLOR_RGB2GRAY)\n",
    "    blur = cv2.GaussianBlur(gs, (25,25),0)\n",
    "    ret_otsu,im_bw_otsu = cv2.threshold(blur,0,255,cv2.THRESH_BINARY_INV+cv2.THRESH_OTSU)\n",
    "    kernel = np.ones((50,50),np.uint8)\n",
    "    closing = cv2.morphologyEx(im_bw_otsu, cv2.MORPH_CLOSE, kernel)\n",
    "\n",
    "    #Shape features\n",
    "    contours, image = cv2.findContours(closing,cv2.RETR_TREE,cv2.CHAIN_APPROX_SIMPLE)\n",
    "    cnt = contours[0]\n",
    "    M = cv2.moments(cnt)\n",
    "    area = cv2.contourArea(cnt)\n",
    "    perimeter = cv2.arcLength(cnt,True)\n",
    "    x,y,w,h = cv2.boundingRect(cnt)\n",
    "    aspect_ratio = float(w)/h\n",
    "    rectangularity = w*h/area\n",
    "    circularity = ((perimeter)**2)/area\n",
    "\n",
    "    #Color features\n",
    "    red_channel = img[:,:,0]\n",
    "    green_channel = img[:,:,1]\n",
    "    blue_channel = img[:,:,2]\n",
    "    blue_channel[blue_channel == 255] = 0\n",
    "    green_channel[green_channel == 255] = 0\n",
    "    red_channel[red_channel == 255] = 0\n",
    "    \n",
    "    \n",
    "    red_mean = np.mean(red_channel)\n",
    "    green_mean = np.mean(green_channel)\n",
    "    blue_mean = np.mean(blue_channel)\n",
    "\n",
    "    red_std = np.std(red_channel)\n",
    "    green_std = np.std(green_channel)\n",
    "    blue_std = np.std(blue_channel)\n",
    "\n",
    "    #Texture features\n",
    "    textures = mt.features.haralick(gs)\n",
    "    ht_mean = textures.mean(axis=0)\n",
    "    contrast = ht_mean[1]\n",
    "    correlation = ht_mean[2]\n",
    "    inverse_diff_moments = ht_mean[4]\n",
    "    entropy = ht_mean[8]\n",
    "\n",
    "    vector = [area,perimeter,w,h,aspect_ratio,rectangularity,circularity,\\\n",
    "              red_mean,green_mean,blue_mean,red_std,green_std,blue_std,\\\n",
    "              contrast,correlation,inverse_diff_moments,entropy\n",
    "             ]\n",
    "\n",
    "    df_temp = pd.DataFrame([vector],columns=names)\n",
    "    df = df.append(df_temp)\n",
    "    \n",
    "    return df"
   ]
  },
  {
   "cell_type": "code",
   "execution_count": 51,
   "id": "8e9f60c6",
   "metadata": {},
   "outputs": [
    {
     "data": {
      "text/html": [
       "<div>\n",
       "<style scoped>\n",
       "    .dataframe tbody tr th:only-of-type {\n",
       "        vertical-align: middle;\n",
       "    }\n",
       "\n",
       "    .dataframe tbody tr th {\n",
       "        vertical-align: top;\n",
       "    }\n",
       "\n",
       "    .dataframe thead th {\n",
       "        text-align: right;\n",
       "    }\n",
       "</style>\n",
       "<table border=\"1\" class=\"dataframe\">\n",
       "  <thead>\n",
       "    <tr style=\"text-align: right;\">\n",
       "      <th></th>\n",
       "      <th>area</th>\n",
       "      <th>perimeter</th>\n",
       "      <th>pysiological_length</th>\n",
       "      <th>pysiological_width</th>\n",
       "      <th>aspect_ratio</th>\n",
       "      <th>rectangularity</th>\n",
       "      <th>circularity</th>\n",
       "      <th>mean_r</th>\n",
       "      <th>mean_g</th>\n",
       "      <th>mean_b</th>\n",
       "      <th>stddev_r</th>\n",
       "      <th>stddev_g</th>\n",
       "      <th>stddev_b</th>\n",
       "      <th>contrast</th>\n",
       "      <th>correlation</th>\n",
       "      <th>inverse_difference_moments</th>\n",
       "      <th>entropy</th>\n",
       "    </tr>\n",
       "  </thead>\n",
       "  <tbody>\n",
       "    <tr>\n",
       "      <th>0</th>\n",
       "      <td>909779.0</td>\n",
       "      <td>4237.202559</td>\n",
       "      <td>1513</td>\n",
       "      <td>1061</td>\n",
       "      <td>1.426013</td>\n",
       "      <td>1.764487</td>\n",
       "      <td>19.734337</td>\n",
       "      <td>23.345395</td>\n",
       "      <td>46.686349</td>\n",
       "      <td>15.251757</td>\n",
       "      <td>45.820891</td>\n",
       "      <td>57.238536</td>\n",
       "      <td>33.431377</td>\n",
       "      <td>150.105369</td>\n",
       "      <td>0.991704</td>\n",
       "      <td>0.591477</td>\n",
       "      <td>7.042055</td>\n",
       "    </tr>\n",
       "  </tbody>\n",
       "</table>\n",
       "</div>"
      ],
      "text/plain": [
       "       area    perimeter pysiological_length pysiological_width  aspect_ratio  \\\n",
       "0  909779.0  4237.202559                1513               1061      1.426013   \n",
       "\n",
       "   rectangularity  circularity     mean_r     mean_g     mean_b   stddev_r  \\\n",
       "0        1.764487    19.734337  23.345395  46.686349  15.251757  45.820891   \n",
       "\n",
       "    stddev_g   stddev_b    contrast  correlation  inverse_difference_moments  \\\n",
       "0  57.238536  33.431377  150.105369     0.991704                    0.591477   \n",
       "\n",
       "    entropy  \n",
       "0  7.042055  "
      ]
     },
     "execution_count": 51,
     "metadata": {},
     "output_type": "execute_result"
    }
   ],
   "source": [
    "features_of_img = feature_extract(bg_rem_img)\n",
    "features_of_img"
   ]
  },
  {
   "cell_type": "code",
   "execution_count": 52,
   "id": "8917beb7",
   "metadata": {},
   "outputs": [
    {
     "name": "stdout",
     "output_type": "stream",
     "text": [
      "[[ 1.16824916e+00  6.53435211e-01  8.46269505e-01  7.69093736e-01\n",
      "  -2.94037800e-01 -2.62798545e-01 -3.29846464e-01 -3.44435322e-01\n",
      "  -3.10442433e-01 -3.40498186e-01 -3.23071980e-03 -7.11587477e-01\n",
      "  -2.19834648e-01  4.58414810e+00 -2.40000157e+00 -1.52962123e+00\n",
      "   1.60313157e+00]]\n"
     ]
    },
    {
     "data": {
      "text/plain": [
       "14"
      ]
     },
     "execution_count": 52,
     "metadata": {},
     "output_type": "execute_result"
    }
   ],
   "source": [
    "scaled_features = sc_X.transform(features_of_img)\n",
    "print(scaled_features)\n",
    "# y_pred_mobile = svm_clf.predict(features_of_img)\n",
    "y_pred_mobile = svm_clf.predict(scaled_features)\n",
    "y_pred_mobile[0]"
   ]
  },
  {
   "cell_type": "code",
   "execution_count": 53,
   "id": "1c7a1789",
   "metadata": {},
   "outputs": [
    {
     "data": {
      "text/plain": [
       "'Japan Arrowwood'"
      ]
     },
     "execution_count": 53,
     "metadata": {},
     "output_type": "execute_result"
    }
   ],
   "source": [
    "common_names = ['pubescent bamboo','Chinese horse chestnut','Anhui Barberry', \\\n",
    "                'Chinese redbud','true indigo','Japanese maple','Nanmu',' castor aralia', \\\n",
    "                'Chinese cinnamon','goldenrain tree','Big-fruited Holly','Japanese cheesewood', \\\n",
    "                'wintersweet','camphortree','Japan Arrowwood','sweet osmanthus','deodar','ginkgo, maidenhair tree', \\\n",
    "                'Crape myrtle, Crepe myrtle','oleander','yew plum pine','Japanese Flowering Cherry','Glossy Privet',\\\n",
    "                'Chinese Toon','peach','Ford Woodlotus','trident maple','Beales barberry','southern magnolia',\\\n",
    "                'Canadian poplar','Chinese tulip tree','tangerine'\n",
    "               ]\n",
    "common_names[y_pred_mobile[0]]"
   ]
  },
  {
   "cell_type": "code",
   "execution_count": null,
   "id": "0a66465d",
   "metadata": {},
   "outputs": [],
   "source": []
  },
  {
   "cell_type": "code",
   "execution_count": null,
   "id": "ba51505e",
   "metadata": {},
   "outputs": [],
   "source": []
  },
  {
   "cell_type": "code",
   "execution_count": null,
   "id": "e52605b7",
   "metadata": {},
   "outputs": [],
   "source": []
  },
  {
   "cell_type": "code",
   "execution_count": null,
   "id": "d2e1c449",
   "metadata": {},
   "outputs": [],
   "source": []
  },
  {
   "cell_type": "code",
   "execution_count": null,
   "id": "e2d9d534",
   "metadata": {},
   "outputs": [],
   "source": []
  },
  {
   "cell_type": "code",
   "execution_count": null,
   "id": "56628341",
   "metadata": {},
   "outputs": [],
   "source": []
  },
  {
   "cell_type": "code",
   "execution_count": null,
   "id": "1d9f466d",
   "metadata": {},
   "outputs": [],
   "source": []
  },
  {
   "cell_type": "code",
   "execution_count": null,
   "id": "c22a2987",
   "metadata": {},
   "outputs": [],
   "source": []
  },
  {
   "cell_type": "code",
   "execution_count": null,
   "id": "215831b2",
   "metadata": {},
   "outputs": [],
   "source": []
  },
  {
   "cell_type": "code",
   "execution_count": null,
   "id": "eda6f34d",
   "metadata": {},
   "outputs": [],
   "source": []
  },
  {
   "cell_type": "code",
   "execution_count": null,
   "id": "5a16d6fc",
   "metadata": {},
   "outputs": [],
   "source": []
  }
 ],
 "metadata": {
  "kernelspec": {
   "display_name": "Python 3",
   "language": "python",
   "name": "python3"
  },
  "language_info": {
   "codemirror_mode": {
    "name": "ipython",
    "version": 3
   },
   "file_extension": ".py",
   "mimetype": "text/x-python",
   "name": "python",
   "nbconvert_exporter": "python",
   "pygments_lexer": "ipython3",
   "version": "3.8.8"
  }
 },
 "nbformat": 4,
 "nbformat_minor": 5
}
